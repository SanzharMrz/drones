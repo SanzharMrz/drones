{
 "cells": [
  {
   "cell_type": "markdown",
   "metadata": {},
   "source": [
    "## GridDynamics draft"
   ]
  },
  {
   "cell_type": "code",
   "execution_count": 1,
   "metadata": {},
   "outputs": [],
   "source": [
    "def sequence_validator(brackets_sequence):        \n",
    "    buff, brackets_dict = [], dict(zip(('({['), (')}]'))) \n",
    "    for bracket in brackets_sequence: \n",
    "        if bracket in brackets_dict: \n",
    "            buff.append(bracket) \n",
    "        elif len(buff)==0 or brackets_dict[buff.pop()] != bracket: \n",
    "            return False\n",
    "    return len(buff)==0"
   ]
  },
  {
   "cell_type": "code",
   "execution_count": 150,
   "metadata": {},
   "outputs": [
    {
     "name": "stdout",
     "output_type": "stream",
     "text": [
      "()[]} - False\n"
     ]
    }
   ],
   "source": [
    "string = \"()[]}\"\n",
    "print(string, \"-\", sequence_validator(string)) "
   ]
  },
  {
   "cell_type": "code",
   "execution_count": 143,
   "metadata": {},
   "outputs": [],
   "source": [
    "def brackets_seq_validator(brackets_sequence):\n",
    "    \"\"\"\n",
    "    :param brackets_sequence (string): string of brackets without separators or whitespace  \n",
    "    :return (string): 'correct' or 'incorrect' result of sequence validation\n",
    "    \"\"\"\n",
    "    result = ['incorrect', 'correct']\n",
    "    buffer, brackets_dict = [], dict(zip(('({['), (')}]')))\n",
    "    for bracket in brackets_sequence:\n",
    "        if bracket in brackets_dict:\n",
    "            buffer.append(bracket)\n",
    "        elif not buffer or brackets_dict[buffer.pop()] != bracket:\n",
    "            return result[False]\n",
    "    return result[not buffer]"
   ]
  },
  {
   "cell_type": "code",
   "execution_count": 151,
   "metadata": {},
   "outputs": [
    {
     "data": {
      "text/plain": [
       "'incorrect'"
      ]
     },
     "execution_count": 151,
     "metadata": {},
     "output_type": "execute_result"
    }
   ],
   "source": [
    "is_valid_parenthese(string)"
   ]
  },
  {
   "cell_type": "markdown",
   "metadata": {},
   "source": [
    "## Drons"
   ]
  },
  {
   "cell_type": "markdown",
   "metadata": {},
   "source": [
    "1. Входят координаты грида\n",
    "2. Определяется K (для начала const), число кластеров для облета (определяется кастомным k-means)\n",
    "3. После расчета K, определяем равноудаленную от всех центроидов точку, для расположения машины"
   ]
  },
  {
   "cell_type": "code",
   "execution_count": 1,
   "metadata": {},
   "outputs": [],
   "source": [
    "def generate_nodes(**kwargs):\n",
    "    \"\"\"\"\"\"\n",
    "    import matplotlib.pyplot as plt\n",
    "    import matplotlib.patches\n",
    "    import numpy as np\n",
    "\n",
    "    el = matplotlib.patches.Ellipse((50,-23), 10, 13.7, 20, facecolor=(1,0,0,.2), edgecolor='none')\n",
    "\n",
    "    y_int = np.arange(-30, -15)\n",
    "    x_int = np.arange(40, 60)\n",
    "\n",
    "    g = np.meshgrid(x_int, y_int)\n",
    "    coords = list(zip(*(c.flat for c in g)))\n",
    "\n",
    "    ellipsepoints = np.vstack([p for p in coords if el.contains_point(p, radius=0)])\n",
    "\n",
    "    fig = plt.figure()\n",
    "    ax = fig.add_subplot(111)\n",
    "    ax.add_artist(el)\n",
    "    ep = np.array(ellipsepoints)\n",
    "    ax.plot(ellipsepoints[:,0], ellipsepoints[:,1], 'go')\n",
    "    plt.ylim(-31, -15)\n",
    "    plt.grid()\n",
    "    plt.show()\n",
    "\n",
    "    return ellipsepoints\n",
    "\n",
    "def generate_clusters(ellipsepoints):\n",
    "    from sklearn.cluster import KMeans\n",
    "    from collections import defaultdict\n",
    "    kmeans = KMeans(n_clusters=5, random_state=666)\n",
    "    kmeans.fit(ellipsepoints)\n",
    "    labels = kmeans.labels_\n",
    "    new_grids = defaultdict(list)\n",
    "    for i, label in enumerate(labels):\n",
    "        new_grids[label].append(list(ellipsepoints[i]))\n",
    "        \n",
    "    return new_grids\n",
    "\n",
    "def plot_new_grids(new_grids):\n",
    "    import matplotlib.pyplot as plt\n",
    "    colors = ['b', 'g', 'r', 'c', 'm', 'y', 'k', 'w']\n",
    "\n",
    "    for key, value in new_grids.items():\n",
    "        x_list, y_list = [], []\n",
    "\n",
    "        for x, y in value:\n",
    "            x_list.append(x)\n",
    "            y_list.append(y)\n",
    "\n",
    "        plt.grid()\n",
    "        plt.plot(x_list,y_list, f'{colors[key]}o')\n",
    "        \n",
    "    return 'Done'"
   ]
  },
  {
   "cell_type": "code",
   "execution_count": 3,
   "metadata": {},
   "outputs": [
    {
     "data": {
      "image/png": "[encoded data removed]",
      "text/plain": [
       "<matplotlib.figure.Figure at 0x7f396c07a1d0>"
      ]
     },
     "metadata": {
      "needs_background": "light"
     },
     "output_type": "display_data"
    }
   ],
   "source": [
    "ellipsepoints = generate_nodes()"
   ]
  },
  {
   "cell_type": "code",
   "execution_count": 5,
   "metadata": {},
   "outputs": [],
   "source": [
    "new_grids = generate_clusters(ellipsepoints)"
   ]
  },
  {
   "cell_type": "code",
   "execution_count": 493,
   "metadata": {},
   "outputs": [
    {
     "data": {
      "text/plain": [
       "'Done'"
      ]
     },
     "execution_count": 493,
     "metadata": {},
     "output_type": "execute_result"
    },
    {
     "data": {
      "image/png": "[encoded data removed]",
      "text/plain": [
       "<Figure size 432x288 with 1 Axes>"
      ]
     },
     "metadata": {
      "needs_background": "light"
     },
     "output_type": "display_data"
    }
   ],
   "source": [
    "plot_new_grids(new_grids)"
   ]
  },
  {
   "cell_type": "markdown",
   "metadata": {},
   "source": [
    "## Keywords query parser"
   ]
  },
  {
   "cell_type": "code",
   "execution_count": 671,
   "metadata": {},
   "outputs": [],
   "source": [
    "import re"
   ]
  },
  {
   "cell_type": "code",
   "execution_count": 137,
   "metadata": {},
   "outputs": [],
   "source": [
    "q = '1(Короновирус | Пандемия) AND 2(Министерство | ВОЗ | Здравоохранение) AND 1(Казахстан)'"
   ]
  },
  {
   "cell_type": "code",
   "execution_count": 913,
   "metadata": {},
   "outputs": [
    {
     "data": {
      "text/plain": [
       "['1(Короновирус | Пандемия)',\n",
       " '2(Министерство | ВОЗ | Здравоохранение)',\n",
       " '1(Казахстан)']"
      ]
     },
     "execution_count": 913,
     "metadata": {},
     "output_type": "execute_result"
    }
   ],
   "source": [
    "q.split(' AND ')"
   ]
  },
  {
   "cell_type": "code",
   "execution_count": null,
   "metadata": {},
   "outputs": [],
   "source": []
  },
  {
   "cell_type": "code",
   "execution_count": 906,
   "metadata": {},
   "outputs": [],
   "source": [
    "todo = '1(|) AND 2(1(|||) | 3(||||||) | 4(|||||) | 3(||||||||||||)) AND 2(||)'"
   ]
  },
  {
   "cell_type": "code",
   "execution_count": 966,
   "metadata": {},
   "outputs": [],
   "source": [
    "def isinstance_validator(array):\n",
    "    if isinstance(array, list):\n",
    "        return array[0]\n",
    "    else:\n",
    "        return array"
   ]
  },
  {
   "cell_type": "code",
   "execution_count": 967,
   "metadata": {},
   "outputs": [
    {
     "data": {
      "text/plain": [
       "1"
      ]
     },
     "execution_count": 967,
     "metadata": {},
     "output_type": "execute_result"
    }
   ],
   "source": [
    "isinstance_validator(1)"
   ]
  },
  {
   "cell_type": "code",
   "execution_count": 938,
   "metadata": {},
   "outputs": [
    {
     "data": {
      "text/plain": [
       "2"
      ]
     },
     "execution_count": 938,
     "metadata": {},
     "output_type": "execute_result"
    }
   ],
   "source": [
    "'20(1(|||) | 3(||||||) | 4(|||||) | 3(||||||||||||))'.find('(', 1, -1)"
   ]
  },
  {
   "cell_type": "code",
   "execution_count": 960,
   "metadata": {},
   "outputs": [],
   "source": [
    "s = '20(|||) | 3(||||||) | 4(|||||) | 3(||||||||||||))'"
   ]
  },
  {
   "cell_type": "code",
   "execution_count": 961,
   "metadata": {},
   "outputs": [],
   "source": [
    "depth = True if re.findall('\\D', s)[:2].count('(')-1 else False"
   ]
  },
  {
   "cell_type": "code",
   "execution_count": 962,
   "metadata": {},
   "outputs": [
    {
     "data": {
      "text/plain": [
       "False"
      ]
     },
     "execution_count": 962,
     "metadata": {},
     "output_type": "execute_result"
    }
   ],
   "source": [
    "depth"
   ]
  },
  {
   "cell_type": "code",
   "execution_count": 955,
   "metadata": {},
   "outputs": [
    {
     "data": {
      "text/plain": [
       "True"
      ]
     },
     "execution_count": 955,
     "metadata": {},
     "output_type": "execute_result"
    }
   ],
   "source": [
    "all(['(',')'])"
   ]
  },
  {
   "cell_type": "code",
   "execution_count": 945,
   "metadata": {},
   "outputs": [
    {
     "data": {
      "text/plain": [
       "2"
      ]
     },
     "execution_count": 945,
     "metadata": {},
     "output_type": "execute_result"
    }
   ],
   "source": [
    "first"
   ]
  },
  {
   "cell_type": "code",
   "execution_count": 946,
   "metadata": {},
   "outputs": [
    {
     "data": {
      "text/plain": [
       "5"
      ]
     },
     "execution_count": 946,
     "metadata": {},
     "output_type": "execute_result"
    }
   ],
   "source": [
    "'20(10(|||) | 3(||||||) | 4(|||||) | 3(||||||||||||))'.find('(', 3, -1)"
   ]
  },
  {
   "cell_type": "code",
   "execution_count": 911,
   "metadata": {
    "scrolled": false
   },
   "outputs": [
    {
     "name": "stdout",
     "output_type": "stream",
     "text": [
      "!!! input 1(Казахстан)\n",
      "!!! nums  ['1']\n",
      "Q 1(Казахстан) on ['1']\n",
      "Done\n"
     ]
    }
   ],
   "source": [
    "for l in '1(Казахстан)'.split(' AND '):\n",
    "    print(parse_q(l))"
   ]
  },
  {
   "cell_type": "code",
   "execution_count": 912,
   "metadata": {},
   "outputs": [
    {
     "data": {
      "text/plain": [
       "['1(Казахстан)']"
      ]
     },
     "execution_count": 912,
     "metadata": {},
     "output_type": "execute_result"
    }
   ],
   "source": [
    "'1(Казахстан)'.split(' AND ')"
   ]
  },
  {
   "cell_type": "code",
   "execution_count": 916,
   "metadata": {},
   "outputs": [
    {
     "data": {
      "text/plain": [
       "['Казахстан']"
      ]
     },
     "execution_count": 916,
     "metadata": {},
     "output_type": "execute_result"
    }
   ],
   "source": [
    "re.findall('(?<=\\().+?(?=\\))',\\\n",
    "           '1(Короновирус | Пандемия) AND 2(Министерство | ВОЗ | Здравоохранение) AND 1(Казахстан)'.split(' AND ')[-1])"
   ]
  },
  {
   "cell_type": "code",
   "execution_count": 917,
   "metadata": {},
   "outputs": [
    {
     "data": {
      "text/plain": [
       "['Короновирус | Пандемия', 'Министерство | ВОЗ | Здравоохранение', 'Казахстан']"
      ]
     },
     "execution_count": 917,
     "metadata": {},
     "output_type": "execute_result"
    }
   ],
   "source": [
    "re.findall('(?<=\\().+?(?=\\))','1(Короновирус | Пандемия) | 2(Министерство | ВОЗ | Здравоохранение) | 1(Казахстан)')"
   ]
  },
  {
   "cell_type": "code",
   "execution_count": 822,
   "metadata": {},
   "outputs": [
    {
     "data": {
      "text/plain": [
       "'2(1(|||) | 3(||||||) | 4(|||||) | 3(||||||||||||))'"
      ]
     },
     "execution_count": 822,
     "metadata": {},
     "output_type": "execute_result"
    }
   ],
   "source": [
    "todo.split(' AND ')[1]"
   ]
  },
  {
   "cell_type": "code",
   "execution_count": 908,
   "metadata": {},
   "outputs": [],
   "source": [
    "def parse_q(s):\n",
    "    import re\n",
    "    print('!!! input', s)\n",
    "    nums = re.findall('\\d(?![^(]*\\))', s)\n",
    "    print('!!! nums ', nums)\n",
    "    if len(nums)>1:\n",
    "        \n",
    "        start_idx = s.find('(') + 1\n",
    "        s = re.findall('(?<=\\().+?(?=\\))', s[start_idx:-1])\n",
    "        print('!!! s', s)\n",
    "        minimum_should_match_first = nums[0]\n",
    "        del nums[0]\n",
    "        el_list = list()\n",
    "        assert len(nums)==len(s)\n",
    "        for el, num in zip(s, nums):\n",
    "            el_list.append(create_elementary_q(el, num))\n",
    "        print(f'{agregate_q_list(el_list)}')\n",
    "        return 'Done'\n",
    "    \n",
    "    print(create_elementary_q(s, nums))\n",
    "    return 'Done'"
   ]
  },
  {
   "cell_type": "code",
   "execution_count": null,
   "metadata": {},
   "outputs": [],
   "source": [
    "def "
   ]
  },
  {
   "cell_type": "code",
   "execution_count": 901,
   "metadata": {},
   "outputs": [],
   "source": [
    "def create_elementary_q(el, num):\n",
    "    return f'Q {el} on {num}'"
   ]
  },
  {
   "cell_type": "code",
   "execution_count": 900,
   "metadata": {},
   "outputs": [],
   "source": [
    "def agregate_q_list(q_list):\n",
    "    return f'list on Qs {q_list}'"
   ]
  },
  {
   "cell_type": "code",
   "execution_count": 893,
   "metadata": {},
   "outputs": [
    {
     "name": "stdout",
     "output_type": "stream",
     "text": [
      "!!! input 1(|||)\n",
      "!!! nums  ['1']\n",
      "Q 1(|||) on ['1']\n"
     ]
    },
    {
     "data": {
      "text/plain": [
       "'Done'"
      ]
     },
     "execution_count": 893,
     "metadata": {},
     "output_type": "execute_result"
    }
   ],
   "source": [
    "parse_q('1(|||)')"
   ]
  },
  {
   "cell_type": "markdown",
   "metadata": {},
   "source": [
    "## Recnum experiments"
   ]
  },
  {
   "cell_type": "code",
   "execution_count": 9,
   "metadata": {},
   "outputs": [],
   "source": [
    "import os\n",
    "from datetime import datetime"
   ]
  },
  {
   "cell_type": "code",
   "execution_count": 17,
   "metadata": {},
   "outputs": [
    {
     "data": {
      "text/plain": [
       "True"
      ]
     },
     "execution_count": 17,
     "metadata": {},
     "output_type": "execute_result"
    }
   ],
   "source": [
    "datetime.strptime('2019-10-05', '%Y-%m-%d').date() < datetime.strptime('2020-10-05', '%Y-%m-%d').date()"
   ]
  },
  {
   "cell_type": "code",
   "execution_count": 23,
   "metadata": {},
   "outputs": [
    {
     "data": {
      "text/plain": [
       "['2020-01-11', '2020-01-10', '2019-05-11', '2019-05-10']"
      ]
     },
     "execution_count": 23,
     "metadata": {},
     "output_type": "execute_result"
    }
   ],
   "source": [
    "sorted(['2019-05-10', '2020-01-10', '2020-01-11', '2019-05-11'], reverse=True)"
   ]
  },
  {
   "cell_type": "code",
   "execution_count": 27,
   "metadata": {},
   "outputs": [
    {
     "name": "stdout",
     "output_type": "stream",
     "text": [
      "['checks', '2018-05-05', '2019-10-05', '555678', 'rows.csv']\n",
      "['checks', '2018-02-05', '2019-01-05', '555678', 'rows.csv']\n"
     ]
    }
   ],
   "source": [
    "for file in os.listdir(path='./data_folder'):\n",
    "    if file.endswith('.csv') and file.split('_')[0] == 'checks':\n",
    "        print(file.split('_'))"
   ]
  },
  {
   "cell_type": "code",
   "execution_count": 45,
   "metadata": {},
   "outputs": [
    {
     "data": {
      "text/plain": [
       "['products_2019-01-05_201000_rows.csv',\n",
       " 'stores_2019-01-05_57_rows.csv',\n",
       " '.ipynb_checkpoints',\n",
       " 'checks_2017-05-05_2019-10-05_555678_rows.csv',\n",
       " 'checks_2018-02-05_2019-01-05_555678_rows.csv']"
      ]
     },
     "execution_count": 45,
     "metadata": {},
     "output_type": "execute_result"
    }
   ],
   "source": [
    "os.listdir('./data_folder')"
   ]
  },
  {
   "cell_type": "code",
   "execution_count": 65,
   "metadata": {},
   "outputs": [
    {
     "data": {
      "text/plain": [
       "'checks_2017-05-05_2019-10-05_555678_rows.csv'"
      ]
     },
     "execution_count": 65,
     "metadata": {},
     "output_type": "execute_result"
    }
   ],
   "source": [
    "sorted([file for file in os.listdir(path='./data_folder') \\\n",
    "        if file.endswith('.csv') and file.split('_')[0] == 'checks'],key= lambda data: data.split('_')[2], reverse=True)[0]"
   ]
  },
  {
   "cell_type": "code",
   "execution_count": 67,
   "metadata": {},
   "outputs": [
    {
     "name": "stdout",
     "output_type": "stream",
     "text": [
      "['products', '2019-01-05', '201000', 'rows.csv']\n",
      "['stores', '2019-01-05', '57', 'rows.csv']\n",
      "['.ipynb', 'checkpoints']\n",
      "['checks', '2017-05-05', '2019-10-05', '555678', 'rows.csv']\n",
      "['checks', '2018-02-05', '2019-01-05', '555678', 'rows.csv']\n"
     ]
    }
   ],
   "source": [
    "for file in os.listdir('./data_folder/'):\n",
    "    print(file.split('_'))"
   ]
  },
  {
   "cell_type": "code",
   "execution_count": 66,
   "metadata": {},
   "outputs": [
    {
     "data": {
      "text/plain": [
       "['products_2019-01-05_201000_rows.csv',\n",
       " 'stores_2019-01-05_57_rows.csv',\n",
       " '.ipynb_checkpoints',\n",
       " 'checks_2017-05-05_2019-10-05_555678_rows.csv',\n",
       " 'checks_2018-02-05_2019-01-05_555678_rows.csv']"
      ]
     },
     "execution_count": 66,
     "metadata": {},
     "output_type": "execute_result"
    }
   ],
   "source": [
    "os.listdir('./data_folder/')"
   ]
  },
  {
   "cell_type": "code",
   "execution_count": 71,
   "metadata": {},
   "outputs": [],
   "source": [
    "import subprocess"
   ]
  },
  {
   "cell_type": "code",
   "execution_count": 73,
   "metadata": {},
   "outputs": [
    {
     "name": "stdout",
     "output_type": "stream",
     "text": [
      "/home/s.murzakhmetov/data_folder\n"
     ]
    }
   ],
   "source": [
    "cd data_folder/\n"
   ]
  },
  {
   "cell_type": "code",
   "execution_count": 74,
   "metadata": {},
   "outputs": [
    {
     "name": "stdout",
     "output_type": "stream",
     "text": [
      "checks_2017-05-05_2019-10-05_555678_rows.csv\r\n",
      "checks_2018-02-05_2019-01-05_555678_rows.csv\r\n",
      "products_2019-01-05_201000_rows.csv\r\n",
      "stores_2019-01-05_57_rows.csv\r\n"
     ]
    }
   ],
   "source": [
    "ls"
   ]
  },
  {
   "cell_type": "code",
   "execution_count": 77,
   "metadata": {},
   "outputs": [
    {
     "name": "stdout",
     "output_type": "stream",
     "text": [
      "0 stores_2019-01-05_57_rows.csv\r\n"
     ]
    }
   ],
   "source": [
    "!wc -l stores_2019-01-05_57_rows.csv"
   ]
  },
  {
   "cell_type": "code",
   "execution_count": 80,
   "metadata": {},
   "outputs": [
    {
     "data": {
      "text/plain": [
       "b'0'"
      ]
     },
     "execution_count": 80,
     "metadata": {},
     "output_type": "execute_result"
    }
   ],
   "source": [
    "subprocess.check_output([\"wc\", \"-l\" , \"stores_2019-01-05_57_rows.csv\"]).split()[0]"
   ]
  },
  {
   "cell_type": "code",
   "execution_count": 82,
   "metadata": {},
   "outputs": [
    {
     "data": {
      "text/plain": [
       "'57'"
      ]
     },
     "execution_count": 82,
     "metadata": {},
     "output_type": "execute_result"
    }
   ],
   "source": [
    "'stores_2019-01-05_57_rows.csv'.split('_')[-2]"
   ]
  },
  {
   "cell_type": "code",
   "execution_count": null,
   "metadata": {},
   "outputs": [],
   "source": [
    "os.rename(f'{sorted([file for file in os.listdir(path='./data_folder') \\\n",
    "        if file.endswith('.csv') and file.split('_')[0] == 'checks'],key= lambda data: data.split('_')[2], reverse=True)[0]}',\\\n",
    "          f'{os.listdir}')"
   ]
  },
  {
   "cell_type": "code",
   "execution_count": 63,
   "metadata": {},
   "outputs": [],
   "source": [
    "for item in os.listdir('./data_folder'):\n",
    "    if item.endswith('.old'):\n",
    "        os.rename(f'/home/s.murzakhmetov/data_folder/{item}', f'/home/s.murzakhmetov/data_folder/{item}' +'old')"
   ]
  },
  {
   "cell_type": "code",
   "execution_count": 64,
   "metadata": {},
   "outputs": [
    {
     "data": {
      "text/plain": [
       "['checks_2018-02-05_2019-01-05_555678_rows.oldold',\n",
       " 'products_2019-01-05_201000_rows.oldold',\n",
       " '.ipynb_checkpoints',\n",
       " 'checks_2017-05-05_2019-10-05_555678_rows.oldold',\n",
       " 'stores_2019-01-05_57_rows.asd']"
      ]
     },
     "execution_count": 64,
     "metadata": {},
     "output_type": "execute_result"
    }
   ],
   "source": [
    "os.listdir('./data_folder')"
   ]
  },
  {
   "cell_type": "code",
   "execution_count": 56,
   "metadata": {},
   "outputs": [
    {
     "data": {
      "text/plain": [
       "'/home/s.murzakhmetov'"
      ]
     },
     "execution_count": 56,
     "metadata": {},
     "output_type": "execute_result"
    }
   ],
   "source": [
    "pwd"
   ]
  },
  {
   "cell_type": "code",
   "execution_count": 52,
   "metadata": {},
   "outputs": [
    {
     "data": {
      "text/plain": [
       "['products_2019-01-05_201000_rows.csv',\n",
       " '.ipynb_checkpoints',\n",
       " 'checks_2017-05-05_2019-10-05_555678_rows.csv',\n",
       " 'checks_2018-02-05_2019-01-05_555678_rows.csv',\n",
       " 'stores_2019-01-05_57_rows.asd']"
      ]
     },
     "execution_count": 52,
     "metadata": {},
     "output_type": "execute_result"
    }
   ],
   "source": [
    "os.listdir('./data_folder')"
   ]
  },
  {
   "cell_type": "code",
   "execution_count": 1,
   "metadata": {},
   "outputs": [],
   "source": [
    "a = {'a':[1,2,3,4], 'b':[], 'c': [1,2,3,4,5,6,7]}"
   ]
  },
  {
   "cell_type": "code",
   "execution_count": 2,
   "metadata": {},
   "outputs": [
    {
     "ename": "RuntimeError",
     "evalue": "dictionary changed size during iteration",
     "output_type": "error",
     "traceback": [
      "\u001b[0;31m---------------------------------------------------------------------------\u001b[0m",
      "\u001b[0;31mRuntimeError\u001b[0m                              Traceback (most recent call last)",
      "\u001b[0;32m<ipython-input-2-894d4013dd6d>\u001b[0m in \u001b[0;36m<module>\u001b[0;34m\u001b[0m\n\u001b[0;32m----> 1\u001b[0;31m \u001b[0;32mfor\u001b[0m \u001b[0mkey\u001b[0m\u001b[0;34m,\u001b[0m \u001b[0mval\u001b[0m \u001b[0;32min\u001b[0m \u001b[0ma\u001b[0m\u001b[0;34m.\u001b[0m\u001b[0mitems\u001b[0m\u001b[0;34m(\u001b[0m\u001b[0;34m)\u001b[0m\u001b[0;34m:\u001b[0m\u001b[0;34m\u001b[0m\u001b[0;34m\u001b[0m\u001b[0m\n\u001b[0m\u001b[1;32m      2\u001b[0m     \u001b[0;32mif\u001b[0m \u001b[0mlen\u001b[0m\u001b[0;34m(\u001b[0m\u001b[0mval\u001b[0m\u001b[0;34m)\u001b[0m\u001b[0;34m<\u001b[0m\u001b[0;36m1\u001b[0m\u001b[0;34m:\u001b[0m\u001b[0;34m\u001b[0m\u001b[0;34m\u001b[0m\u001b[0m\n\u001b[1;32m      3\u001b[0m         \u001b[0;32mdel\u001b[0m \u001b[0ma\u001b[0m\u001b[0;34m[\u001b[0m\u001b[0mkey\u001b[0m\u001b[0;34m]\u001b[0m\u001b[0;34m\u001b[0m\u001b[0;34m\u001b[0m\u001b[0m\n",
      "\u001b[0;31mRuntimeError\u001b[0m: dictionary changed size during iteration"
     ]
    }
   ],
   "source": [
    "for key, val in a.items():\n",
    "    if len(val)<1:\n",
    "        del a[key]"
   ]
  },
  {
   "cell_type": "markdown",
   "metadata": {},
   "source": [
    "## Shit Experiments"
   ]
  },
  {
   "cell_type": "code",
   "execution_count": 8,
   "metadata": {},
   "outputs": [],
   "source": [
    "import pandas as pd\n",
    "import numpy as np"
   ]
  },
  {
   "cell_type": "code",
   "execution_count": 72,
   "metadata": {},
   "outputs": [],
   "source": [
    "a = {'a':[1,2,3,4,0], 'b':[7,8,1,10,1], 'c': [66,20,11,4,9]}"
   ]
  },
  {
   "cell_type": "code",
   "execution_count": 73,
   "metadata": {},
   "outputs": [],
   "source": [
    "df = pd.DataFrame(data=a)"
   ]
  },
  {
   "cell_type": "code",
   "execution_count": 27,
   "metadata": {},
   "outputs": [
    {
     "data": {
      "text/plain": [
       "0    24.666667\n",
       "1    10.000000\n",
       "2     5.000000\n",
       "3     6.000000\n",
       "4    34.333333\n",
       "dtype: float64"
      ]
     },
     "execution_count": 27,
     "metadata": {},
     "output_type": "execute_result"
    }
   ],
   "source": [
    "df.apply(np.mean, axis=1)"
   ]
  },
  {
   "cell_type": "code",
   "execution_count": 74,
   "metadata": {},
   "outputs": [
    {
     "name": "stdout",
     "output_type": "stream",
     "text": [
      "24.666666666666668 0\n",
      "10.0 1\n",
      "5.0 2\n",
      "6.0 3\n",
      "5.0 4\n"
     ]
    }
   ],
   "source": [
    "for i, row in enumerate(df.itertuples()):\n",
    "    row_sum = 0\n",
    "    not_zero_cnt = 0\n",
    "    for val in row[1:]:\n",
    "        if val:\n",
    "            row_sum += val\n",
    "            not_zero_cnt += 1\n",
    "    print(row_sum / not_zero_cnt, i)"
   ]
  },
  {
   "cell_type": "code",
   "execution_count": 70,
   "metadata": {},
   "outputs": [
    {
     "data": {
      "text/plain": [
       "0    24.666667\n",
       "1    10.000000\n",
       "2     5.000000\n",
       "3     6.000000\n",
       "4          NaN\n",
       "dtype: float64"
      ]
     },
     "execution_count": 70,
     "metadata": {},
     "output_type": "execute_result"
    }
   ],
   "source": [
    "df[df!=0].mean(axis=1)"
   ]
  },
  {
   "cell_type": "code",
   "execution_count": 77,
   "metadata": {},
   "outputs": [],
   "source": [
    "labels_list = ['tm_0-topic_1', 'tm_0-topic_11', 'tm_0-topic_13', 'tm_0-topic_14', 'tm_0-topic_15', 'tm_0-topic_16', 'tm_0-topic_17', 'tm_0-topic_18', 'tm_0-topic_19', 'tm_0-topic_2', 'tm_0-topic_20', 'tm_0-topic_21', 'tm_0-topic_22', 'tm_0-topic_23', 'tm_0-topic_24', 'tm_0-topic_25', 'tm_0-topic_26', 'tm_0-topic_28', 'tm_0-topic_29', 'tm_0-topic_3', 'tm_0-topic_30', 'tm_0-topic_31', 'tm_0-topic_32', 'tm_0-topic_33', 'tm_0-topic_35', 'tm_0-topic_36', 'tm_0-topic_37', 'tm_0-topic_39', 'tm_0-topic_4', 'tm_0-topic_40', 'tm_0-topic_41', 'tm_0-topic_42', 'tm_0-topic_43', 'tm_0-topic_44', 'tm_0-topic_45', 'tm_0-topic_46', 'tm_0-topic_47', 'tm_0-topic_49', 'tm_0-topic_5', 'tm_0-topic_6', 'tm_0-topic_7', 'tm_0-topic_8', 'tm_0-topic_9', 'tm_1-topic_0', 'tm_1-topic_1', 'tm_1-topic_10', 'tm_1-topic_11', 'tm_1-topic_12', 'tm_1-topic_13', 'tm_1-topic_14', 'tm_1-topic_15', 'tm_1-topic_16', 'tm_1-topic_17', 'tm_1-topic_18', 'tm_1-topic_19', 'tm_1-topic_2', 'tm_1-topic_20', 'tm_1-topic_21', 'tm_1-topic_22', 'tm_1-topic_23', 'tm_1-topic_24', 'tm_1-topic_25', 'tm_1-topic_26', 'tm_1-topic_27', 'tm_1-topic_28', 'tm_1-topic_29', 'tm_1-topic_3', 'tm_1-topic_30', 'tm_1-topic_31', 'tm_1-topic_32', 'tm_1-topic_33', 'tm_1-topic_34', 'tm_1-topic_35', 'tm_1-topic_36', 'tm_1-topic_37', 'tm_1-topic_38', 'tm_1-topic_39', 'tm_1-topic_4', 'tm_1-topic_40', 'tm_1-topic_41', 'tm_1-topic_42', 'tm_1-topic_43', 'tm_1-topic_44', 'tm_1-topic_45', 'tm_1-topic_46', 'tm_1-topic_47', 'tm_1-topic_48', 'tm_1-topic_49', 'tm_1-topic_5', 'tm_1-topic_6', 'tm_1-topic_7', 'tm_1-topic_8', 'tm_1-topic_9', 'tm_2-topic_0', 'tm_2-topic_1', 'tm_2-topic_10', 'tm_2-topic_11', 'tm_2-topic_12', 'tm_2-topic_13', 'tm_2-topic_14', 'tm_2-topic_15', 'tm_2-topic_16', 'tm_2-topic_17', 'tm_2-topic_18', 'tm_2-topic_19', 'tm_2-topic_2', 'tm_2-topic_20', 'tm_2-topic_21', 'tm_2-topic_22', 'tm_2-topic_23', 'tm_2-topic_24', 'tm_2-topic_25', 'tm_2-topic_26', 'tm_2-topic_27', 'tm_2-topic_28', 'tm_2-topic_29', 'tm_2-topic_3', 'tm_2-topic_30', 'tm_2-topic_31', 'tm_2-topic_32', 'tm_2-topic_33', 'tm_2-topic_34', 'tm_2-topic_35', 'tm_2-topic_36', 'tm_2-topic_37', 'tm_2-topic_38', 'tm_2-topic_39', 'tm_2-topic_4', 'tm_2-topic_40', 'tm_2-topic_41', 'tm_2-topic_42', 'tm_2-topic_43', 'tm_2-topic_44', 'tm_2-topic_45', 'tm_2-topic_46', 'tm_2-topic_47', 'tm_2-topic_48', 'tm_2-topic_49', 'tm_2-topic_5', 'tm_2-topic_6', 'tm_2-topic_7', 'tm_2-topic_8', 'tm_2-topic_9', 'tm_3-topic_0', 'tm_3-topic_1', 'tm_3-topic_10', 'tm_3-topic_11', 'tm_3-topic_12', 'tm_3-topic_13', 'tm_3-topic_14', 'tm_3-topic_15', 'tm_3-topic_16', 'tm_3-topic_17', 'tm_3-topic_18', 'tm_3-topic_19', 'tm_3-topic_2', 'tm_3-topic_20', 'tm_3-topic_21', 'tm_3-topic_22', 'tm_3-topic_23', 'tm_3-topic_24', 'tm_3-topic_25', 'tm_3-topic_26', 'tm_3-topic_27', 'tm_3-topic_28', 'tm_3-topic_29', 'tm_3-topic_3', 'tm_3-topic_30', 'tm_3-topic_31', 'tm_3-topic_32', 'tm_3-topic_33', 'tm_3-topic_34', 'tm_3-topic_35', 'tm_3-topic_36', 'tm_3-topic_37', 'tm_3-topic_38', 'tm_3-topic_39', 'tm_3-topic_4', 'tm_3-topic_40', 'tm_3-topic_41', 'tm_3-topic_42', 'tm_3-topic_43', 'tm_3-topic_44', 'tm_3-topic_45', 'tm_3-topic_46', 'tm_3-topic_48', 'tm_3-topic_49', 'tm_3-topic_5', 'tm_3-topic_6', 'tm_3-topic_7', 'tm_3-topic_8', 'tm_3-topic_9', 'tm_4-topic_0', 'tm_4-topic_10', 'tm_4-topic_11', 'tm_4-topic_12', 'tm_4-topic_13', 'tm_4-topic_14', 'tm_4-topic_15', 'tm_4-topic_16', 'tm_4-topic_17', 'tm_4-topic_18', 'tm_4-topic_19', 'tm_4-topic_2', 'tm_4-topic_20', 'tm_4-topic_21', 'tm_4-topic_22', 'tm_4-topic_24', 'tm_4-topic_25', 'tm_4-topic_26', 'tm_4-topic_27', 'tm_4-topic_28', 'tm_4-topic_29', 'tm_4-topic_3', 'tm_4-topic_30', 'tm_4-topic_31', 'tm_4-topic_32', 'tm_4-topic_33', 'tm_4-topic_34', 'tm_4-topic_35', 'tm_4-topic_36', 'tm_4-topic_37', 'tm_4-topic_38', 'tm_4-topic_39', 'tm_4-topic_4', 'tm_4-topic_40', 'tm_4-topic_41', 'tm_4-topic_42', 'tm_4-topic_44', 'tm_4-topic_46', 'tm_4-topic_47', 'tm_4-topic_48', 'tm_4-topic_49', 'tm_4-topic_5', 'tm_4-topic_6', 'tm_4-topic_7', 'tm_4-topic_8', 'tm_4-topic_9'] "
   ]
  },
  {
   "cell_type": "code",
   "execution_count": 106,
   "metadata": {},
   "outputs": [],
   "source": [
    "x = []\n",
    "for i in labels_list:\n",
    "    if i.split('-')[0].split('_')[1]=='0':\n",
    "        x.append(0.1)\n",
    "    elif i.split('-')[0].split('_')[1]=='1':\n",
    "        x.append(0.3)\n",
    "    elif i.split('-')[0].split('_')[1]=='2':\n",
    "        x.append(0.5)\n",
    "    elif i.split('-')[0].split('_')[1]=='3':\n",
    "        x.append(0.7)\n",
    "    else:\n",
    "        x.append(0.9)"
   ]
  },
  {
   "cell_type": "code",
   "execution_count": 113,
   "metadata": {},
   "outputs": [
    {
     "data": {
      "text/plain": [
       "'tm_0-topic_1'"
      ]
     },
     "execution_count": 113,
     "metadata": {},
     "output_type": "execute_result"
    }
   ],
   "source": [
    "labels_list[source[0]]"
   ]
  },
  {
   "cell_type": "code",
   "execution_count": 114,
   "metadata": {},
   "outputs": [],
   "source": [
    "a = [1,3,4,5]"
   ]
  },
  {
   "cell_type": "markdown",
   "metadata": {},
   "source": [
    "### Contextlib"
   ]
  },
  {
   "cell_type": "code",
   "execution_count": 118,
   "metadata": {},
   "outputs": [],
   "source": [
    "from contextlib import contextmanager"
   ]
  },
  {
   "cell_type": "code",
   "execution_count": 119,
   "metadata": {},
   "outputs": [],
   "source": [
    "@contextmanager\n",
    "\n",
    "def simple_cont_manager(obj):\n",
    "    try:\n",
    "        obj.some_property+=1\n",
    "        yield\n",
    "    finally:\n",
    "        obj.some_property-=1"
   ]
  },
  {
   "cell_type": "code",
   "execution_count": 120,
   "metadata": {},
   "outputs": [],
   "source": [
    "class Some_obj(object):\n",
    "    def __init__(self, arg):\n",
    "        self.some_property = arg"
   ]
  },
  {
   "cell_type": "code",
   "execution_count": 122,
   "metadata": {},
   "outputs": [],
   "source": [
    "obj = Some_obj(6)"
   ]
  },
  {
   "cell_type": "code",
   "execution_count": 128,
   "metadata": {},
   "outputs": [
    {
     "name": "stdout",
     "output_type": "stream",
     "text": [
      "7\n"
     ]
    }
   ],
   "source": [
    "with simple_cont_manager(obj):\n",
    "    print(obj.some_property)"
   ]
  },
  {
   "cell_type": "code",
   "execution_count": 129,
   "metadata": {},
   "outputs": [
    {
     "name": "stdout",
     "output_type": "stream",
     "text": [
      "7\n"
     ]
    }
   ],
   "source": [
    "with simple_cont_manager(obj):\n",
    "    print(obj.some_property)"
   ]
  }
 ],
 "metadata": {
  "kernelspec": {
   "display_name": "Python 3",
   "language": "python",
   "name": "python3"
  },
  "language_info": {
   "codemirror_mode": {
    "name": "ipython",
    "version": 3
   },
   "file_extension": ".py",
   "mimetype": "text/x-python",
   "name": "python",
   "nbconvert_exporter": "python",
   "pygments_lexer": "ipython3",
   "version": "3.6.8"
  }
 },
 "nbformat": 4,
 "nbformat_minor": 2
}
